{
 "cells": [
  {
   "cell_type": "code",
   "execution_count": 38,
   "id": "b4d56803",
   "metadata": {},
   "outputs": [],
   "source": [
    "import pandas as pd\n",
    "import numpy as np\n",
    "from urllib.request import urlopen\n",
    "from bs4 import BeautifulSoup\n",
    "from urllib import request\n",
    "import os\n",
    "from tensorflow.keras.utils import load_img, img_to_array\n",
    "import json"
   ]
  },
  {
   "cell_type": "code",
   "execution_count": 2,
   "id": "2e593f4e",
   "metadata": {},
   "outputs": [],
   "source": [
    "def getHTMLContent(link):\n",
    "    html = urlopen(link)\n",
    "    soup = BeautifulSoup(html, 'html.parser')\n",
    "    return soup"
   ]
  },
  {
   "cell_type": "code",
   "execution_count": 58,
   "id": "2b92810b",
   "metadata": {},
   "outputs": [],
   "source": [
    "site_base = 'https://www.worldometers.info'\n",
    "site = site_base + '/geography/flags-of-the-world'"
   ]
  },
  {
   "cell_type": "code",
   "execution_count": 59,
   "id": "c77f2cad",
   "metadata": {},
   "outputs": [],
   "source": [
    "result = getHTMLContent(site)"
   ]
  },
  {
   "cell_type": "code",
   "execution_count": 60,
   "id": "7e12a152",
   "metadata": {},
   "outputs": [],
   "source": [
    "table = result.find_all('div', {\"class\": \"col-md-4\"})"
   ]
  },
  {
   "cell_type": "code",
   "execution_count": 84,
   "id": "dd9e1c62",
   "metadata": {},
   "outputs": [],
   "source": [
    "for i in range(len(table)):\n",
    "    row = table[i]\n",
    "    country = row.text\n",
    "    try:\n",
    "        url = site_base + row.find('a')['href']\n",
    "        file_path = f'flags/{country}.gif'\n",
    "        request.urlretrieve(url, file_path)\n",
    "    except:\n",
    "        pass"
   ]
  },
  {
   "cell_type": "markdown",
   "id": "2fe349e5",
   "metadata": {},
   "source": [
    "Save all flags as an array"
   ]
  },
  {
   "cell_type": "code",
   "execution_count": 25,
   "id": "37c24e7e",
   "metadata": {},
   "outputs": [],
   "source": [
    "def get_flat_image(fname, dim=24):\n",
    "    img = img_to_array(load_img(fname, target_size=(dim, dim)))\n",
    "    return img.flatten()"
   ]
  },
  {
   "cell_type": "code",
   "execution_count": 35,
   "id": "af975018",
   "metadata": {},
   "outputs": [],
   "source": [
    "dim = 24\n",
    "\n",
    "flags = os.listdir('flags/')\n",
    "countries = [s.replace('.gif', '') for s in flags]\n",
    "n = len(countries)\n",
    "dims = (n, dim*dim*3)\n",
    "flag_array = np.zeros(shape=dims)\n",
    "\n",
    "for i in range(n):\n",
    "    flag_array[i,] = get_flat_image('flags/' + flags[i], dim)"
   ]
  },
  {
   "cell_type": "code",
   "execution_count": 36,
   "id": "7501af49",
   "metadata": {},
   "outputs": [
    {
     "data": {
      "text/plain": [
       "(195, 1728)"
      ]
     },
     "execution_count": 36,
     "metadata": {},
     "output_type": "execute_result"
    }
   ],
   "source": [
    "flag_array.shape"
   ]
  },
  {
   "cell_type": "code",
   "execution_count": 37,
   "id": "d1e3ce6a",
   "metadata": {},
   "outputs": [
    {
     "data": {
      "text/plain": [
       "array([[  0.,   0.,   0., ...,  17., 152.,  72.],\n",
       "       [219.,  43.,  39., ..., 219.,  43.,  39.],\n",
       "       [  0., 166.,  80., ..., 255., 255., 255.],\n",
       "       ...,\n",
       "       [238.,  42.,  39., ...,  36.,  33.,  34.],\n",
       "       [  0., 166.,  81., ..., 250., 172.,  85.],\n",
       "       [  0., 167.,  81., ...,   0., 166.,  81.]])"
      ]
     },
     "execution_count": 37,
     "metadata": {},
     "output_type": "execute_result"
    }
   ],
   "source": [
    "flag_array"
   ]
  },
  {
   "cell_type": "code",
   "execution_count": 46,
   "id": "17cafa5d",
   "metadata": {},
   "outputs": [],
   "source": [
    "np.savetxt('flag_array.txt', flag_array, fmt='%d')"
   ]
  },
  {
   "cell_type": "code",
   "execution_count": null,
   "id": "1a590e08",
   "metadata": {},
   "outputs": [],
   "source": []
  }
 ],
 "metadata": {
  "kernelspec": {
   "display_name": "Python 3",
   "language": "python",
   "name": "python3"
  },
  "language_info": {
   "codemirror_mode": {
    "name": "ipython",
    "version": 3
   },
   "file_extension": ".py",
   "mimetype": "text/x-python",
   "name": "python",
   "nbconvert_exporter": "python",
   "pygments_lexer": "ipython3",
   "version": "3.8.8"
  }
 },
 "nbformat": 4,
 "nbformat_minor": 5
}
